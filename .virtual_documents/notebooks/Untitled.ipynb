import pandas as pd
import numpy as np
import matplotlib.pyplot as plt
import seaborn as sns
import warnings

warnings.filterwarnings('ignore')


df = pd.read_csv('../data/housing.csv')
df.head(10)





df.info()


df.describe()


df.isnull().sum()


df.hist(bins=30, figsize=(12, 8))
plt.tight_layout()
plt.show()


df.plot(kind='scatter', x='longitude', y='latitude', alpha=0.4,
        s=df['population']/100, label='Population',
        c='median_house_value', cmap='viridis', colorbar=True, figsize=(10,7))
plt.legend()
plt.show()


plt.figure(figsize=(12, 8))
sns.heatmap(df.corr(numeric_only=True), annot=True, cmap='coolwarm', fmt=".2f")
plt.title("Correlation Matrix")
plt.show()



